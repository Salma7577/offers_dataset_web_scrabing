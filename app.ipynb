{
 "cells": [
  {
   "cell_type": "code",
   "execution_count": 2,
   "metadata": {},
   "outputs": [],
   "source": [
    "from base64 import encode\n",
    "import requests\n",
    "from bs4 import BeautifulSoup\n",
    "import csv\n",
    "from itertools import zip_longest\n",
    "import pandas as pd\n",
    "import unicodedata\n",
    "import re\n",
    "from queue import Queue\n",
    "from threading import Thread\n",
    "from collections import deque\n",
    "\n",
    "link = \"https://https://www.alsoouq.com/saudi-arabia-offers/offers-othaim/page/\"\n"
   ]
  },
  {
   "cell_type": "markdown",
   "metadata": {},
   "source": [
    "## scrap all booklets links"
   ]
  },
  {
   "cell_type": "code",
   "execution_count": 26,
   "metadata": {},
   "outputs": [],
   "source": [
    "weekly_offers_links = []\n",
    "for i in range(5):\n",
    "    src = requests.get(link+str(i)).content\n",
    "    soup = BeautifulSoup(src, \"lxml\")\n",
    "    weekly_offers_links.extend(soup.select(\"a.more-link\"))\n"
   ]
  },
  {
   "cell_type": "code",
   "execution_count": 27,
   "metadata": {},
   "outputs": [],
   "source": [
    "for i in range(len(weekly_offers_links)):\n",
    "    weekly_offers_links[i] = weekly_offers_links[i].attrs[\"href\"]"
   ]
  },
  {
   "cell_type": "code",
   "execution_count": 28,
   "metadata": {},
   "outputs": [],
   "source": [
    "pd.DataFrame({\"weekly_offers_links\":weekly_offers_links}).to_csv(r'data\\tamimi\\weekly_offers_links.csv')"
   ]
  },
  {
   "cell_type": "code",
   "execution_count": 46,
   "metadata": {},
   "outputs": [
    {
     "data": {
      "text/plain": [
       "[]"
      ]
     },
     "execution_count": 46,
     "metadata": {},
     "output_type": "execute_result"
    }
   ],
   "source": [
    "soup.select(\"h1.post-title\")"
   ]
  },
  {
   "cell_type": "markdown",
   "metadata": {},
   "source": [
    "## load all booklets links"
   ]
  },
  {
   "cell_type": "code",
   "execution_count": 9,
   "metadata": {},
   "outputs": [],
   "source": [
    "weekly_offers_links= pd.read_csv(r'data\\othaim\\weekly_offers_links.csv')[\"weekly_offers_links\"]"
   ]
  },
  {
   "cell_type": "code",
   "execution_count": 10,
   "metadata": {},
   "outputs": [
    {
     "data": {
      "text/plain": [
       "0      https://www.alsoouq.com/saudi-arabia-electroni...\n",
       "1      https://www.alsoouq.com/saudi-arabia-offers/of...\n",
       "2      https://www.alsoouq.com/saudi-arabia-offers/of...\n",
       "3      https://www.alsoouq.com/saudi-arabia-offers/of...\n",
       "4      https://www.alsoouq.com/saudi-arabia-offers/of...\n",
       "                             ...                        \n",
       "145    https://www.alsoouq.com/saudi-arabia-offers/of...\n",
       "146    https://www.alsoouq.com/saudi-arabia-offers/of...\n",
       "147    https://www.alsoouq.com/saudi-arabia-offers/of...\n",
       "148    https://www.alsoouq.com/saudi-arabia-electroni...\n",
       "149    https://www.alsoouq.com/saudi-arabia-offers/of...\n",
       "Name: weekly_offers_links, Length: 150, dtype: object"
      ]
     },
     "execution_count": 10,
     "metadata": {},
     "output_type": "execute_result"
    }
   ],
   "source": [
    "weekly_offers_links"
   ]
  },
  {
   "cell_type": "code",
   "execution_count": 20,
   "metadata": {},
   "outputs": [
    {
     "name": "stdout",
     "output_type": "stream",
     "text": [
      "in weekly_offers_links: 0\n",
      "in numOfWebPages: 1\n",
      "in weekly_offers_links: 1\n"
     ]
    },
    {
     "ename": "IndexError",
     "evalue": "list index out of range",
     "output_type": "error",
     "traceback": [
      "\u001b[1;31m---------------------------------------------------------------------------\u001b[0m",
      "\u001b[1;31mIndexError\u001b[0m                                Traceback (most recent call last)",
      "\u001b[1;32mc:\\Users\\user\\Desktop\\web scrabing\\app.ipynb Cell 10\u001b[0m in \u001b[0;36m<cell line: 6>\u001b[1;34m()\u001b[0m\n\u001b[0;32m     <a href='vscode-notebook-cell:/c%3A/Users/user/Desktop/web%20scrabing/app.ipynb#ch0000009?line=18'>19</a>\u001b[0m \u001b[39melse\u001b[39;00m:\n\u001b[0;32m     <a href='vscode-notebook-cell:/c%3A/Users/user/Desktop/web%20scrabing/app.ipynb#ch0000009?line=19'>20</a>\u001b[0m    numOfWebPages\u001b[39m=\u001b[39m\u001b[39m1\u001b[39m \n\u001b[1;32m---> <a href='vscode-notebook-cell:/c%3A/Users/user/Desktop/web%20scrabing/app.ipynb#ch0000009?line=21'>22</a>\u001b[0m booklet_name \u001b[39m=\u001b[39m soup\u001b[39m.\u001b[39;49mselect(\u001b[39m\"\u001b[39;49m\u001b[39mh1.post-title\u001b[39;49m\u001b[39m\"\u001b[39;49m)[\u001b[39m0\u001b[39;49m]\u001b[39m.\u001b[39mtext\n\u001b[0;32m     <a href='vscode-notebook-cell:/c%3A/Users/user/Desktop/web%20scrabing/app.ipynb#ch0000009?line=23'>24</a>\u001b[0m page_images_booklet \u001b[39m=\u001b[39m pd\u001b[39m.\u001b[39mDataFrame({\u001b[39m\"\u001b[39m\u001b[39mimg_link\u001b[39m\u001b[39m\"\u001b[39m:[],\u001b[39m\"\u001b[39m\u001b[39mimage_page_number\u001b[39m\u001b[39m\"\u001b[39m:[],\u001b[39m\"\u001b[39m\u001b[39mbooklet_name\u001b[39m\u001b[39m\"\u001b[39m:[],\u001b[39m\"\u001b[39m\u001b[39mbooklet_link\u001b[39m\u001b[39m\"\u001b[39m:[]})\n\u001b[0;32m     <a href='vscode-notebook-cell:/c%3A/Users/user/Desktop/web%20scrabing/app.ipynb#ch0000009?line=24'>25</a>\u001b[0m \u001b[39mfor\u001b[39;00m j \u001b[39min\u001b[39;00m \u001b[39mrange\u001b[39m(\u001b[39m1\u001b[39m,numOfWebPages\u001b[39m+\u001b[39m\u001b[39m1\u001b[39m):\n",
      "\u001b[1;31mIndexError\u001b[0m: list index out of range"
     ]
    }
   ],
   "source": [
    "import os\n",
    "from turtle import st\n",
    "\n",
    "\n",
    "page_images_all = pd.DataFrame({\"img_link\":[],\"image_page_number\":[],\"booklet_name\":[],\"booklet_link\":[]})\n",
    "for i in range(9):\n",
    "\n",
    "    print(\"in weekly_offers_links: \" + str(i))\n",
    "    current_weekly_offers_link=weekly_offers_links[i]\n",
    "    res=requests.get(current_weekly_offers_link)\n",
    "    src=res.content\n",
    "    soup = BeautifulSoup(src, \"lxml\")\n",
    "\n",
    "# get the number of web pages of this weekly offers booklest \n",
    "    numOfWebPages=soup.select('.page-link a')\n",
    "    if(numOfWebPages):\n",
    "        numOfWebPages=numOfWebPages[len(numOfWebPages)-1].text\n",
    "        numOfWebPages = int(numOfWebPages)\n",
    "    else:\n",
    "       numOfWebPages=1 \n",
    "    \n",
    "    booklet_name = soup.select(\"h1.post-title\")[0].text\n",
    "    \n",
    "    page_images_booklet = pd.DataFrame({\"img_link\":[],\"image_page_number\":[],\"booklet_name\":[],\"booklet_link\":[]})\n",
    "    for j in range(1,numOfWebPages+1):\n",
    "        print(\"in numOfWebPages: \"+ str(j))\n",
    "        src = requests.get(current_weekly_offers_link+\"/\"+str(j)).content\n",
    "        soup = BeautifulSoup(src, \"lxml\")\n",
    "        img_links =soup.select('noscript img[style=\"border: 0px;\"]')\n",
    "        page_images = pd.DataFrame({\"img_link\":img_links,\"image_page_number\":j,\"booklet_name\":booklet_name,\"booklet_link\":current_weekly_offers_link})\n",
    "        page_images[\"img_link\"]= page_images[\"img_link\"].apply(lambda x: x.attrs[\"src\"])\n",
    "        page_images_booklet=pd.concat([page_images_booklet,page_images])\n",
    "    # os.mkdir(r'C:\\Users\\user\\Desktop\\web scrabing\\data\\othaim\\booklet_'+str(i))\n",
    "    page_images_booklet.to_csv(r'C:\\Users\\user\\Desktop\\web scrabing\\data\\othaim\\booklet_'+str(i)+r'\\booklet_'+str(i)+\".csv\", index=False)\n",
    "    page_images_all=pd.concat([page_images_all,page_images_booklet])\n",
    "\n",
    "page_images_all.to_csv(r'data\\othaim\\booklet_othaim.csv', index=False)\n",
    "page_images_all.reset_index(inplace=True)\n",
    "page_images_all.drop(\"index\",inplace=True,axis=1)\n",
    "page_images_all\n"
   ]
  },
  {
   "cell_type": "code",
   "execution_count": 50,
   "metadata": {},
   "outputs": [
    {
     "data": {
      "text/html": [
       "<div>\n",
       "<style scoped>\n",
       "    .dataframe tbody tr th:only-of-type {\n",
       "        vertical-align: middle;\n",
       "    }\n",
       "\n",
       "    .dataframe tbody tr th {\n",
       "        vertical-align: top;\n",
       "    }\n",
       "\n",
       "    .dataframe thead th {\n",
       "        text-align: right;\n",
       "    }\n",
       "</style>\n",
       "<table border=\"1\" class=\"dataframe\">\n",
       "  <thead>\n",
       "    <tr style=\"text-align: right;\">\n",
       "      <th></th>\n",
       "      <th>img_link</th>\n",
       "      <th>image_page_number</th>\n",
       "      <th>booklet_name</th>\n",
       "      <th>booklet_link</th>\n",
       "    </tr>\n",
       "  </thead>\n",
       "  <tbody>\n",
       "    <tr>\n",
       "      <th>0</th>\n",
       "      <td>https://www.alsoouq.com//uploads/2022/07/5484706956.jpg</td>\n",
       "      <td>1.0</td>\n",
       "      <td>عروض العثيم اليوم 28 يوليو 2022 الموافق 29 ذو الحجة 1443 عروض بالجملة الاوفر &amp; عروض الويكند</td>\n",
       "      <td>https://www.alsoouq.com/saudi-arabia-offers/offers-othaim/%d8%b9%d8%b1%d9%88%d8%b6-%d8%a7%d9%84%d8%b9%d8%ab%d9%8a%d9%85-%d8%a7%d9%84%d9%8a%d9%88%d9%85-28-%d9%8a%d9%88%d9%84%d9%8a%d9%88-2022-%d8%a7%d9%84%d9%85%d9%88%d8%a7%d9%81%d9%82-29-%d8%b0%d9%88-%d8%a7.html</td>\n",
       "    </tr>\n",
       "    <tr>\n",
       "      <th>1</th>\n",
       "      <td>https://www.alsoouq.com//uploads/2022/07/9820116987.jpg</td>\n",
       "      <td>1.0</td>\n",
       "      <td>عروض العثيم اليوم 28 يوليو 2022 الموافق 29 ذو الحجة 1443 عروض بالجملة الاوفر &amp; عروض الويكند</td>\n",
       "      <td>https://www.alsoouq.com/saudi-arabia-offers/offers-othaim/%d8%b9%d8%b1%d9%88%d8%b6-%d8%a7%d9%84%d8%b9%d8%ab%d9%8a%d9%85-%d8%a7%d9%84%d9%8a%d9%88%d9%85-28-%d9%8a%d9%88%d9%84%d9%8a%d9%88-2022-%d8%a7%d9%84%d9%85%d9%88%d8%a7%d9%81%d9%82-29-%d8%b0%d9%88-%d8%a7.html</td>\n",
       "    </tr>\n",
       "    <tr>\n",
       "      <th>2</th>\n",
       "      <td>https://www.alsoouq.com//uploads/2022/07/4675580916.jpg</td>\n",
       "      <td>1.0</td>\n",
       "      <td>عروض العثيم اليوم 28 يوليو 2022 الموافق 29 ذو الحجة 1443 عروض بالجملة الاوفر &amp; عروض الويكند</td>\n",
       "      <td>https://www.alsoouq.com/saudi-arabia-offers/offers-othaim/%d8%b9%d8%b1%d9%88%d8%b6-%d8%a7%d9%84%d8%b9%d8%ab%d9%8a%d9%85-%d8%a7%d9%84%d9%8a%d9%88%d9%85-28-%d9%8a%d9%88%d9%84%d9%8a%d9%88-2022-%d8%a7%d9%84%d9%85%d9%88%d8%a7%d9%81%d9%82-29-%d8%b0%d9%88-%d8%a7.html</td>\n",
       "    </tr>\n",
       "    <tr>\n",
       "      <th>3</th>\n",
       "      <td>https://www.alsoouq.com//uploads/2022/07/90469279.jpg</td>\n",
       "      <td>1.0</td>\n",
       "      <td>عروض العثيم اليوم 28 يوليو 2022 الموافق 29 ذو الحجة 1443 عروض بالجملة الاوفر &amp; عروض الويكند</td>\n",
       "      <td>https://www.alsoouq.com/saudi-arabia-offers/offers-othaim/%d8%b9%d8%b1%d9%88%d8%b6-%d8%a7%d9%84%d8%b9%d8%ab%d9%8a%d9%85-%d8%a7%d9%84%d9%8a%d9%88%d9%85-28-%d9%8a%d9%88%d9%84%d9%8a%d9%88-2022-%d8%a7%d9%84%d9%85%d9%88%d8%a7%d9%81%d9%82-29-%d8%b0%d9%88-%d8%a7.html</td>\n",
       "    </tr>\n",
       "    <tr>\n",
       "      <th>4</th>\n",
       "      <td>https://www.alsoouq.com//uploads/2022/07/7077529347.jpg</td>\n",
       "      <td>1.0</td>\n",
       "      <td>عروض العثيم اليوم 28 يوليو 2022 الموافق 29 ذو الحجة 1443 عروض بالجملة الاوفر &amp; عروض الويكند</td>\n",
       "      <td>https://www.alsoouq.com/saudi-arabia-offers/offers-othaim/%d8%b9%d8%b1%d9%88%d8%b6-%d8%a7%d9%84%d8%b9%d8%ab%d9%8a%d9%85-%d8%a7%d9%84%d9%8a%d9%88%d9%85-28-%d9%8a%d9%88%d9%84%d9%8a%d9%88-2022-%d8%a7%d9%84%d9%85%d9%88%d8%a7%d9%81%d9%82-29-%d8%b0%d9%88-%d8%a7.html</td>\n",
       "    </tr>\n",
       "    <tr>\n",
       "      <th>...</th>\n",
       "      <td>...</td>\n",
       "      <td>...</td>\n",
       "      <td>...</td>\n",
       "      <td>...</td>\n",
       "    </tr>\n",
       "    <tr>\n",
       "      <th>202</th>\n",
       "      <td>https://www.alsoouq.com//uploads/2022/07/7477848675.jpg</td>\n",
       "      <td>5.0</td>\n",
       "      <td>عروض العثيم الأسبوعية تسري حتى 19 يوليو 2022 الموافق 20 ذو الحجة 1443 عروض التذكير باليوم الأخير</td>\n",
       "      <td>https://www.alsoouq.com/saudi-arabia-offers/offers-othaim/%d8%b9%d8%b1%d9%88%d8%b6-%d8%a7%d9%84%d8%b9%d8%ab%d9%8a%d9%85-%d8%a7%d9%84%d8%a3%d8%b3%d8%a8%d9%88%d8%b9%d9%8a%d8%a9-%d8%aa%d8%b3%d8%b1%d9%8a-%d8%ad%d8%aa%d9%89-19-%d9%8a%d9%88%d9%84%d9%8a%d9%88-2022.html</td>\n",
       "    </tr>\n",
       "    <tr>\n",
       "      <th>203</th>\n",
       "      <td>https://www.alsoouq.com//uploads/2022/07/3835060402.jpg</td>\n",
       "      <td>6.0</td>\n",
       "      <td>عروض العثيم الأسبوعية تسري حتى 19 يوليو 2022 الموافق 20 ذو الحجة 1443 عروض التذكير باليوم الأخير</td>\n",
       "      <td>https://www.alsoouq.com/saudi-arabia-offers/offers-othaim/%d8%b9%d8%b1%d9%88%d8%b6-%d8%a7%d9%84%d8%b9%d8%ab%d9%8a%d9%85-%d8%a7%d9%84%d8%a3%d8%b3%d8%a8%d9%88%d8%b9%d9%8a%d8%a9-%d8%aa%d8%b3%d8%b1%d9%8a-%d8%ad%d8%aa%d9%89-19-%d9%8a%d9%88%d9%84%d9%8a%d9%88-2022.html</td>\n",
       "    </tr>\n",
       "    <tr>\n",
       "      <th>204</th>\n",
       "      <td>https://www.alsoouq.com//uploads/2022/07/9657984676.jpg</td>\n",
       "      <td>6.0</td>\n",
       "      <td>عروض العثيم الأسبوعية تسري حتى 19 يوليو 2022 الموافق 20 ذو الحجة 1443 عروض التذكير باليوم الأخير</td>\n",
       "      <td>https://www.alsoouq.com/saudi-arabia-offers/offers-othaim/%d8%b9%d8%b1%d9%88%d8%b6-%d8%a7%d9%84%d8%b9%d8%ab%d9%8a%d9%85-%d8%a7%d9%84%d8%a3%d8%b3%d8%a8%d9%88%d8%b9%d9%8a%d8%a9-%d8%aa%d8%b3%d8%b1%d9%8a-%d8%ad%d8%aa%d9%89-19-%d9%8a%d9%88%d9%84%d9%8a%d9%88-2022.html</td>\n",
       "    </tr>\n",
       "    <tr>\n",
       "      <th>205</th>\n",
       "      <td>https://www.alsoouq.com//uploads/2022/07/9404603447.jpg</td>\n",
       "      <td>6.0</td>\n",
       "      <td>عروض العثيم الأسبوعية تسري حتى 19 يوليو 2022 الموافق 20 ذو الحجة 1443 عروض التذكير باليوم الأخير</td>\n",
       "      <td>https://www.alsoouq.com/saudi-arabia-offers/offers-othaim/%d8%b9%d8%b1%d9%88%d8%b6-%d8%a7%d9%84%d8%b9%d8%ab%d9%8a%d9%85-%d8%a7%d9%84%d8%a3%d8%b3%d8%a8%d9%88%d8%b9%d9%8a%d8%a9-%d8%aa%d8%b3%d8%b1%d9%8a-%d8%ad%d8%aa%d9%89-19-%d9%8a%d9%88%d9%84%d9%8a%d9%88-2022.html</td>\n",
       "    </tr>\n",
       "    <tr>\n",
       "      <th>206</th>\n",
       "      <td>https://www.alsoouq.com//uploads/2022/07/8188234708.jpg</td>\n",
       "      <td>6.0</td>\n",
       "      <td>عروض العثيم الأسبوعية تسري حتى 19 يوليو 2022 الموافق 20 ذو الحجة 1443 عروض التذكير باليوم الأخير</td>\n",
       "      <td>https://www.alsoouq.com/saudi-arabia-offers/offers-othaim/%d8%b9%d8%b1%d9%88%d8%b6-%d8%a7%d9%84%d8%b9%d8%ab%d9%8a%d9%85-%d8%a7%d9%84%d8%a3%d8%b3%d8%a8%d9%88%d8%b9%d9%8a%d8%a9-%d8%aa%d8%b3%d8%b1%d9%8a-%d8%ad%d8%aa%d9%89-19-%d9%8a%d9%88%d9%84%d9%8a%d9%88-2022.html</td>\n",
       "    </tr>\n",
       "  </tbody>\n",
       "</table>\n",
       "<p>207 rows × 4 columns</p>\n",
       "</div>"
      ],
      "text/plain": [
       "                                                    img_link  \\\n",
       "0    https://www.alsoouq.com//uploads/2022/07/5484706956.jpg   \n",
       "1    https://www.alsoouq.com//uploads/2022/07/9820116987.jpg   \n",
       "2    https://www.alsoouq.com//uploads/2022/07/4675580916.jpg   \n",
       "3      https://www.alsoouq.com//uploads/2022/07/90469279.jpg   \n",
       "4    https://www.alsoouq.com//uploads/2022/07/7077529347.jpg   \n",
       "..                                                       ...   \n",
       "202  https://www.alsoouq.com//uploads/2022/07/7477848675.jpg   \n",
       "203  https://www.alsoouq.com//uploads/2022/07/3835060402.jpg   \n",
       "204  https://www.alsoouq.com//uploads/2022/07/9657984676.jpg   \n",
       "205  https://www.alsoouq.com//uploads/2022/07/9404603447.jpg   \n",
       "206  https://www.alsoouq.com//uploads/2022/07/8188234708.jpg   \n",
       "\n",
       "     image_page_number  \\\n",
       "0                  1.0   \n",
       "1                  1.0   \n",
       "2                  1.0   \n",
       "3                  1.0   \n",
       "4                  1.0   \n",
       "..                 ...   \n",
       "202                5.0   \n",
       "203                6.0   \n",
       "204                6.0   \n",
       "205                6.0   \n",
       "206                6.0   \n",
       "\n",
       "                                                                                         booklet_name  \\\n",
       "0         عروض العثيم اليوم 28 يوليو 2022 الموافق 29 ذو الحجة 1443 عروض بالجملة الاوفر & عروض الويكند   \n",
       "1         عروض العثيم اليوم 28 يوليو 2022 الموافق 29 ذو الحجة 1443 عروض بالجملة الاوفر & عروض الويكند   \n",
       "2         عروض العثيم اليوم 28 يوليو 2022 الموافق 29 ذو الحجة 1443 عروض بالجملة الاوفر & عروض الويكند   \n",
       "3         عروض العثيم اليوم 28 يوليو 2022 الموافق 29 ذو الحجة 1443 عروض بالجملة الاوفر & عروض الويكند   \n",
       "4         عروض العثيم اليوم 28 يوليو 2022 الموافق 29 ذو الحجة 1443 عروض بالجملة الاوفر & عروض الويكند   \n",
       "..                                                                                                ...   \n",
       "202  عروض العثيم الأسبوعية تسري حتى 19 يوليو 2022 الموافق 20 ذو الحجة 1443 عروض التذكير باليوم الأخير   \n",
       "203  عروض العثيم الأسبوعية تسري حتى 19 يوليو 2022 الموافق 20 ذو الحجة 1443 عروض التذكير باليوم الأخير   \n",
       "204  عروض العثيم الأسبوعية تسري حتى 19 يوليو 2022 الموافق 20 ذو الحجة 1443 عروض التذكير باليوم الأخير   \n",
       "205  عروض العثيم الأسبوعية تسري حتى 19 يوليو 2022 الموافق 20 ذو الحجة 1443 عروض التذكير باليوم الأخير   \n",
       "206  عروض العثيم الأسبوعية تسري حتى 19 يوليو 2022 الموافق 20 ذو الحجة 1443 عروض التذكير باليوم الأخير   \n",
       "\n",
       "                                                                                                                                                                                                                                                               booklet_link  \n",
       "0      https://www.alsoouq.com/saudi-arabia-offers/offers-othaim/%d8%b9%d8%b1%d9%88%d8%b6-%d8%a7%d9%84%d8%b9%d8%ab%d9%8a%d9%85-%d8%a7%d9%84%d9%8a%d9%88%d9%85-28-%d9%8a%d9%88%d9%84%d9%8a%d9%88-2022-%d8%a7%d9%84%d9%85%d9%88%d8%a7%d9%81%d9%82-29-%d8%b0%d9%88-%d8%a7.html  \n",
       "1      https://www.alsoouq.com/saudi-arabia-offers/offers-othaim/%d8%b9%d8%b1%d9%88%d8%b6-%d8%a7%d9%84%d8%b9%d8%ab%d9%8a%d9%85-%d8%a7%d9%84%d9%8a%d9%88%d9%85-28-%d9%8a%d9%88%d9%84%d9%8a%d9%88-2022-%d8%a7%d9%84%d9%85%d9%88%d8%a7%d9%81%d9%82-29-%d8%b0%d9%88-%d8%a7.html  \n",
       "2      https://www.alsoouq.com/saudi-arabia-offers/offers-othaim/%d8%b9%d8%b1%d9%88%d8%b6-%d8%a7%d9%84%d8%b9%d8%ab%d9%8a%d9%85-%d8%a7%d9%84%d9%8a%d9%88%d9%85-28-%d9%8a%d9%88%d9%84%d9%8a%d9%88-2022-%d8%a7%d9%84%d9%85%d9%88%d8%a7%d9%81%d9%82-29-%d8%b0%d9%88-%d8%a7.html  \n",
       "3      https://www.alsoouq.com/saudi-arabia-offers/offers-othaim/%d8%b9%d8%b1%d9%88%d8%b6-%d8%a7%d9%84%d8%b9%d8%ab%d9%8a%d9%85-%d8%a7%d9%84%d9%8a%d9%88%d9%85-28-%d9%8a%d9%88%d9%84%d9%8a%d9%88-2022-%d8%a7%d9%84%d9%85%d9%88%d8%a7%d9%81%d9%82-29-%d8%b0%d9%88-%d8%a7.html  \n",
       "4      https://www.alsoouq.com/saudi-arabia-offers/offers-othaim/%d8%b9%d8%b1%d9%88%d8%b6-%d8%a7%d9%84%d8%b9%d8%ab%d9%8a%d9%85-%d8%a7%d9%84%d9%8a%d9%88%d9%85-28-%d9%8a%d9%88%d9%84%d9%8a%d9%88-2022-%d8%a7%d9%84%d9%85%d9%88%d8%a7%d9%81%d9%82-29-%d8%b0%d9%88-%d8%a7.html  \n",
       "..                                                                                                                                                                                                                                                                      ...  \n",
       "202  https://www.alsoouq.com/saudi-arabia-offers/offers-othaim/%d8%b9%d8%b1%d9%88%d8%b6-%d8%a7%d9%84%d8%b9%d8%ab%d9%8a%d9%85-%d8%a7%d9%84%d8%a3%d8%b3%d8%a8%d9%88%d8%b9%d9%8a%d8%a9-%d8%aa%d8%b3%d8%b1%d9%8a-%d8%ad%d8%aa%d9%89-19-%d9%8a%d9%88%d9%84%d9%8a%d9%88-2022.html  \n",
       "203  https://www.alsoouq.com/saudi-arabia-offers/offers-othaim/%d8%b9%d8%b1%d9%88%d8%b6-%d8%a7%d9%84%d8%b9%d8%ab%d9%8a%d9%85-%d8%a7%d9%84%d8%a3%d8%b3%d8%a8%d9%88%d8%b9%d9%8a%d8%a9-%d8%aa%d8%b3%d8%b1%d9%8a-%d8%ad%d8%aa%d9%89-19-%d9%8a%d9%88%d9%84%d9%8a%d9%88-2022.html  \n",
       "204  https://www.alsoouq.com/saudi-arabia-offers/offers-othaim/%d8%b9%d8%b1%d9%88%d8%b6-%d8%a7%d9%84%d8%b9%d8%ab%d9%8a%d9%85-%d8%a7%d9%84%d8%a3%d8%b3%d8%a8%d9%88%d8%b9%d9%8a%d8%a9-%d8%aa%d8%b3%d8%b1%d9%8a-%d8%ad%d8%aa%d9%89-19-%d9%8a%d9%88%d9%84%d9%8a%d9%88-2022.html  \n",
       "205  https://www.alsoouq.com/saudi-arabia-offers/offers-othaim/%d8%b9%d8%b1%d9%88%d8%b6-%d8%a7%d9%84%d8%b9%d8%ab%d9%8a%d9%85-%d8%a7%d9%84%d8%a3%d8%b3%d8%a8%d9%88%d8%b9%d9%8a%d8%a9-%d8%aa%d8%b3%d8%b1%d9%8a-%d8%ad%d8%aa%d9%89-19-%d9%8a%d9%88%d9%84%d9%8a%d9%88-2022.html  \n",
       "206  https://www.alsoouq.com/saudi-arabia-offers/offers-othaim/%d8%b9%d8%b1%d9%88%d8%b6-%d8%a7%d9%84%d8%b9%d8%ab%d9%8a%d9%85-%d8%a7%d9%84%d8%a3%d8%b3%d8%a8%d9%88%d8%b9%d9%8a%d8%a9-%d8%aa%d8%b3%d8%b1%d9%8a-%d8%ad%d8%aa%d9%89-19-%d9%8a%d9%88%d9%84%d9%8a%d9%88-2022.html  \n",
       "\n",
       "[207 rows x 4 columns]"
      ]
     },
     "execution_count": 50,
     "metadata": {},
     "output_type": "execute_result"
    }
   ],
   "source": [
    "pd.set_option('display.max_colwidth', None)\n",
    "\n",
    "page_images_all\n",
    "# page_images_all.reset_index(inplace=True)\n",
    "# page_images_all.drop(\"index\",inplace=True,axis=1)\n",
    "# page_images_all[]"
   ]
  },
  {
   "cell_type": "code",
   "execution_count": 12,
   "metadata": {},
   "outputs": [],
   "source": [
    "\n",
    "from itertools import count\n",
    "\n",
    "\n",
    "def download_img(booklet):\n",
    "\n",
    "\tglobal data\n",
    "\tglobal count\n",
    "\twhile True:\n",
    "\t\ttry:\n",
    "\t\t\timg_url=data.pop()\n",
    "\t\t\tres = requests.get(img_url, stream=True)\n",
    "\t\t\tfilename = f\"data/othaim/booklet_{booklet}/{img_url.split('/')[-1]}\"\n",
    "\t\t\tcount= count+1\n",
    "\t\t\tpage_n=count\n",
    "\t\t\twith open(filename, 'wb') as f:\n",
    "\t\t\t\tfor block in res.iter_content(1024):\n",
    "\t\t\t\t\tf.write(block)\n",
    "\t\t\tprint(\"page number: \"+str(page_n)+\" downloded\")\n",
    "\n",
    "\t\texcept:\n",
    "\t\t\tbreak"
   ]
  },
  {
   "cell_type": "code",
   "execution_count": 17,
   "metadata": {},
   "outputs": [
    {
     "name": "stdout",
     "output_type": "stream",
     "text": [
      "booklet number: 7\n",
      "page number: 0 downloded\n",
      "page number: 1 downloded\n",
      "page number: 2 downloded\n",
      "page number: 3 downloded\n",
      "page number: 4 downloded\n",
      "page number: 5 downloded\n",
      "page number: 6 downloded\n",
      "page number: 7 downloded\n",
      "page number: 8 downloded\n",
      "page number: 9 downloded\n",
      "page number: 10 downloded\n",
      "page number: 11 downloded\n",
      "page number: 12 downloded\n",
      "page number: 13 downloded\n",
      "page number: 14 downloded\n",
      "page number: 15 downloded\n",
      "page number: 16 downloded\n",
      "page number: 17 downloded\n",
      "page number: 18 downloded\n",
      "page number: 19 downloded\n",
      "page number: 20 downloded\n",
      "page number: 21 downloded\n",
      "page number: 22 downloded\n",
      "page number: 23 downloded\n",
      "page number: 24 downloded\n",
      "page number: 25 downloded\n"
     ]
    }
   ],
   "source": [
    "data= ''\n",
    "count=-1\n",
    "for booklet in range(9):\n",
    "   \n",
    "    print(\"booklet number: \"+ str(booklet))\n",
    "    data =deque(pd.read_csv(fr'data/othaim/booklet_{booklet}/booklet_{booklet}.csv').reset_index()[\"img_link\"])\n",
    "    threads=[]\n",
    "    count=-1\n",
    "    for i in range(3):\n",
    "        thread = Thread(target=download_img,args=[booklet])\n",
    "        thread.daemon = True\n",
    "        thread.start()\n",
    "        threads.append(thread)\n",
    "\n",
    "    for thread in threads:\n",
    "        thread.join()\n"
   ]
  },
  {
   "cell_type": "code",
   "execution_count": 75,
   "metadata": {},
   "outputs": [],
   "source": [
    "dt = pd.DataFrame({\"img_link\":[],\"image_page_number\":[],\"booklet_name\":[],\"booklet_link\":[]})\n",
    "\n",
    "for booklet in range(5):\n",
    "  dt=pd.concat([dt,pd.read_csv(fr'data/pandah/booklet_{booklet}/booklet_{booklet}.csv')])\n",
    "dt.to_csv(r'data\\pandah\\booklet_pandah.csv', index=False)"
   ]
  },
  {
   "cell_type": "code",
   "execution_count": 47,
   "metadata": {},
   "outputs": [],
   "source": [
    "def addLinkCol(path):\n",
    "    CSV=pd.read_csv(path) #rf'data/othaim/booklet_1/booklet_1.csv')\n",
    "    t=pd.DataFrame({\"img_name\":CSV[\"img_link\"]})\n",
    "    dt=pd.concat([CSV,t[\"img_name\"].apply(lambda a: a.split('/')[-1] , )],axis=1)\n",
    "    dt.to_csv(path, index=False)"
   ]
  },
  {
   "cell_type": "code",
   "execution_count": 64,
   "metadata": {},
   "outputs": [],
   "source": [
    "for i in [0,2,3,5,6,8,9]:\n",
    "    addLinkCol(rf'data/danube/booklet_{i}/booklet_{i}.csv')"
   ]
  },
  {
   "cell_type": "code",
   "execution_count": 73,
   "metadata": {},
   "outputs": [],
   "source": [
    "addLinkCol(rf'data/tamimi/booklet_tamimi.csv')"
   ]
  },
  {
   "cell_type": "code",
   "execution_count": 84,
   "metadata": {},
   "outputs": [],
   "source": [
    "def remove(images,supermarket,booklet):\n",
    "    bookletCSV=pd.read_csv(rf'data/{supermarket}/booklet_{booklet}/booklet_{booklet}.csv')\n",
    "    suCSV= pd.read_csv(rf'data/{supermarket}/booklet_{supermarket}.csv')\n",
    "    for  image in images:\n",
    "        display(bookletCSV[bookletCSV[\"img_name\"]==image])\n",
    "        display(suCSV[suCSV[\"img_name\"]==image])\n",
    "        bookletCSV.drop(bookletCSV[bookletCSV[\"img_name\"]==image].index,inplace=True)\n",
    "        suCSV.drop(suCSV[suCSV[\"img_name\"]==image].index,inplace=True)\n",
    "        display(bookletCSV[bookletCSV[\"img_name\"]==image])\n",
    "        display(suCSV[suCSV[\"img_name\"]==image])\n",
    "        os.remove(rf'data/{supermarket}/booklet_{booklet}/{image}')\n",
    "    bookletCSV.to_csv(rf'data/{supermarket}/booklet_{booklet}/booklet_{booklet}.csv', index=False)\n",
    "    suCSV.to_csv(rf'data/{supermarket}/booklet_{supermarket}.csv', index=False)"
   ]
  },
  {
   "cell_type": "code",
   "execution_count": 85,
   "metadata": {},
   "outputs": [
    {
     "data": {
      "text/html": [
       "<div>\n",
       "<style scoped>\n",
       "    .dataframe tbody tr th:only-of-type {\n",
       "        vertical-align: middle;\n",
       "    }\n",
       "\n",
       "    .dataframe tbody tr th {\n",
       "        vertical-align: top;\n",
       "    }\n",
       "\n",
       "    .dataframe thead th {\n",
       "        text-align: right;\n",
       "    }\n",
       "</style>\n",
       "<table border=\"1\" class=\"dataframe\">\n",
       "  <thead>\n",
       "    <tr style=\"text-align: right;\">\n",
       "      <th></th>\n",
       "      <th>img_link</th>\n",
       "      <th>image_page_number</th>\n",
       "      <th>booklet_name</th>\n",
       "      <th>booklet_link</th>\n",
       "      <th>img_name</th>\n",
       "      <th>img_name.1</th>\n",
       "    </tr>\n",
       "  </thead>\n",
       "  <tbody>\n",
       "    <tr>\n",
       "      <th>0</th>\n",
       "      <td>https://www.alsoouq.com//uploads/2022/07/12209...</td>\n",
       "      <td>1.0</td>\n",
       "      <td>عروض الجوالات من العثيم اليوم 29 يوليو 2022 ال...</td>\n",
       "      <td>https://www.alsoouq.com/saudi-arabia-electroni...</td>\n",
       "      <td>1220932763.jpg</td>\n",
       "      <td>1220932763.jpg</td>\n",
       "    </tr>\n",
       "  </tbody>\n",
       "</table>\n",
       "</div>"
      ],
      "text/plain": [
       "                                            img_link  image_page_number  \\\n",
       "0  https://www.alsoouq.com//uploads/2022/07/12209...                1.0   \n",
       "\n",
       "                                        booklet_name  \\\n",
       "0  عروض الجوالات من العثيم اليوم 29 يوليو 2022 ال...   \n",
       "\n",
       "                                        booklet_link        img_name  \\\n",
       "0  https://www.alsoouq.com/saudi-arabia-electroni...  1220932763.jpg   \n",
       "\n",
       "       img_name.1  \n",
       "0  1220932763.jpg  "
      ]
     },
     "metadata": {},
     "output_type": "display_data"
    },
    {
     "data": {
      "text/html": [
       "<div>\n",
       "<style scoped>\n",
       "    .dataframe tbody tr th:only-of-type {\n",
       "        vertical-align: middle;\n",
       "    }\n",
       "\n",
       "    .dataframe tbody tr th {\n",
       "        vertical-align: top;\n",
       "    }\n",
       "\n",
       "    .dataframe thead th {\n",
       "        text-align: right;\n",
       "    }\n",
       "</style>\n",
       "<table border=\"1\" class=\"dataframe\">\n",
       "  <thead>\n",
       "    <tr style=\"text-align: right;\">\n",
       "      <th></th>\n",
       "      <th>img_link</th>\n",
       "      <th>image_page_number</th>\n",
       "      <th>booklet_name</th>\n",
       "      <th>booklet_link</th>\n",
       "      <th>img_name</th>\n",
       "    </tr>\n",
       "  </thead>\n",
       "  <tbody>\n",
       "    <tr>\n",
       "      <th>0</th>\n",
       "      <td>https://www.alsoouq.com//uploads/2022/07/12209...</td>\n",
       "      <td>1.0</td>\n",
       "      <td>عروض الجوالات من العثيم اليوم 29 يوليو 2022 ال...</td>\n",
       "      <td>https://www.alsoouq.com/saudi-arabia-electroni...</td>\n",
       "      <td>1220932763.jpg</td>\n",
       "    </tr>\n",
       "  </tbody>\n",
       "</table>\n",
       "</div>"
      ],
      "text/plain": [
       "                                            img_link  image_page_number  \\\n",
       "0  https://www.alsoouq.com//uploads/2022/07/12209...                1.0   \n",
       "\n",
       "                                        booklet_name  \\\n",
       "0  عروض الجوالات من العثيم اليوم 29 يوليو 2022 ال...   \n",
       "\n",
       "                                        booklet_link        img_name  \n",
       "0  https://www.alsoouq.com/saudi-arabia-electroni...  1220932763.jpg  "
      ]
     },
     "metadata": {},
     "output_type": "display_data"
    },
    {
     "data": {
      "text/html": [
       "<div>\n",
       "<style scoped>\n",
       "    .dataframe tbody tr th:only-of-type {\n",
       "        vertical-align: middle;\n",
       "    }\n",
       "\n",
       "    .dataframe tbody tr th {\n",
       "        vertical-align: top;\n",
       "    }\n",
       "\n",
       "    .dataframe thead th {\n",
       "        text-align: right;\n",
       "    }\n",
       "</style>\n",
       "<table border=\"1\" class=\"dataframe\">\n",
       "  <thead>\n",
       "    <tr style=\"text-align: right;\">\n",
       "      <th></th>\n",
       "      <th>img_link</th>\n",
       "      <th>image_page_number</th>\n",
       "      <th>booklet_name</th>\n",
       "      <th>booklet_link</th>\n",
       "      <th>img_name</th>\n",
       "      <th>img_name.1</th>\n",
       "    </tr>\n",
       "  </thead>\n",
       "  <tbody>\n",
       "  </tbody>\n",
       "</table>\n",
       "</div>"
      ],
      "text/plain": [
       "Empty DataFrame\n",
       "Columns: [img_link, image_page_number, booklet_name, booklet_link, img_name, img_name.1]\n",
       "Index: []"
      ]
     },
     "metadata": {},
     "output_type": "display_data"
    },
    {
     "data": {
      "text/html": [
       "<div>\n",
       "<style scoped>\n",
       "    .dataframe tbody tr th:only-of-type {\n",
       "        vertical-align: middle;\n",
       "    }\n",
       "\n",
       "    .dataframe tbody tr th {\n",
       "        vertical-align: top;\n",
       "    }\n",
       "\n",
       "    .dataframe thead th {\n",
       "        text-align: right;\n",
       "    }\n",
       "</style>\n",
       "<table border=\"1\" class=\"dataframe\">\n",
       "  <thead>\n",
       "    <tr style=\"text-align: right;\">\n",
       "      <th></th>\n",
       "      <th>img_link</th>\n",
       "      <th>image_page_number</th>\n",
       "      <th>booklet_name</th>\n",
       "      <th>booklet_link</th>\n",
       "      <th>img_name</th>\n",
       "    </tr>\n",
       "  </thead>\n",
       "  <tbody>\n",
       "  </tbody>\n",
       "</table>\n",
       "</div>"
      ],
      "text/plain": [
       "Empty DataFrame\n",
       "Columns: [img_link, image_page_number, booklet_name, booklet_link, img_name]\n",
       "Index: []"
      ]
     },
     "metadata": {},
     "output_type": "display_data"
    }
   ],
   "source": [
    "remove([\"1220932763.jpg\"],\"othaim\",\"0\")"
   ]
  },
  {
   "cell_type": "code",
   "execution_count": 124,
   "metadata": {},
   "outputs": [],
   "source": [
    "def redownload(images,supermarket,booklet):\n",
    "    bookletCSV=pd.read_csv(rf'data/{supermarket}/booklet_{booklet}/booklet_{booklet}.csv')\n",
    "    for image in images:\n",
    "        os.remove(rf'data/{supermarket}/booklet_{booklet}/{image}')\n",
    "        display(bookletCSV[bookletCSV[\"img_name\"]==image])\n",
    "        img_url=bookletCSV[bookletCSV[\"img_name\"]==image].reset_index()[\"img_link\"][0]\n",
    "        res = requests.get(img_url, stream=True)\n",
    "        filename = f\"data/{supermarket}/booklet_{booklet}/{img_url.split('/')[-1]}\"\n",
    "        with open(filename, 'wb') as f:\n",
    "            for block in res.iter_content(1024):\n",
    "                f.write(block)\n"
   ]
  },
  {
   "cell_type": "code",
   "execution_count": 123,
   "metadata": {},
   "outputs": [
    {
     "ename": "KeyError",
     "evalue": "0",
     "output_type": "error",
     "traceback": [
      "\u001b[1;31m---------------------------------------------------------------------------\u001b[0m",
      "\u001b[1;31mValueError\u001b[0m                                Traceback (most recent call last)",
      "File \u001b[1;32mc:\\Users\\user\\AppData\\Local\\Programs\\Python\\Python310\\lib\\site-packages\\pandas\\core\\indexes\\range.py:385\u001b[0m, in \u001b[0;36mRangeIndex.get_loc\u001b[1;34m(self, key, method, tolerance)\u001b[0m\n\u001b[0;32m    384\u001b[0m \u001b[39mtry\u001b[39;00m:\n\u001b[1;32m--> 385\u001b[0m     \u001b[39mreturn\u001b[39;00m \u001b[39mself\u001b[39;49m\u001b[39m.\u001b[39;49m_range\u001b[39m.\u001b[39;49mindex(new_key)\n\u001b[0;32m    386\u001b[0m \u001b[39mexcept\u001b[39;00m \u001b[39mValueError\u001b[39;00m \u001b[39mas\u001b[39;00m err:\n",
      "\u001b[1;31mValueError\u001b[0m: 0 is not in range",
      "\nThe above exception was the direct cause of the following exception:\n",
      "\u001b[1;31mKeyError\u001b[0m                                  Traceback (most recent call last)",
      "\u001b[1;32mc:\\Users\\user\\Desktop\\web scrabing\\app.ipynb Cell 21\u001b[0m in \u001b[0;36m<cell line: 1>\u001b[1;34m()\u001b[0m\n\u001b[1;32m----> <a href='vscode-notebook-cell:/c%3A/Users/user/Desktop/web%20scrabing/app.ipynb#ch0000026?line=0'>1</a>\u001b[0m redownload({\u001b[39m\"\u001b[39;49m\u001b[39m1338112502.JPEG\u001b[39;49m\u001b[39m\"\u001b[39;49m,\u001b[39m\"\u001b[39;49m\u001b[39m3328346178.JPEG\u001b[39;49m\u001b[39m\"\u001b[39;49m,\u001b[39m\"\u001b[39;49m\u001b[39m4675580916.JPG\u001b[39;49m\u001b[39m\"\u001b[39;49m,\u001b[39m\"\u001b[39;49m\u001b[39m5484706956.JPG\u001b[39;49m\u001b[39m\"\u001b[39;49m,\u001b[39m\"\u001b[39;49m\u001b[39m6294712518.JPEG\u001b[39;49m\u001b[39m\"\u001b[39;49m,\u001b[39m\"\u001b[39;49m\u001b[39m7077529347.JPG\u001b[39;49m\u001b[39m\"\u001b[39;49m,\u001b[39m\"\u001b[39;49m\u001b[39m9377964170.JPEG\u001b[39;49m\u001b[39m\"\u001b[39;49m,\u001b[39m\"\u001b[39;49m\u001b[39m9820116987.JPG\u001b[39;49m\u001b[39m\"\u001b[39;49m},\u001b[39m\"\u001b[39;49m\u001b[39mothaim\u001b[39;49m\u001b[39m\"\u001b[39;49m,\u001b[39m\"\u001b[39;49m\u001b[39m1\u001b[39;49m\u001b[39m\"\u001b[39;49m)\n",
      "\u001b[1;32mc:\\Users\\user\\Desktop\\web scrabing\\app.ipynb Cell 21\u001b[0m in \u001b[0;36mredownload\u001b[1;34m(images, supermarket, booklet)\u001b[0m\n\u001b[0;32m      <a href='vscode-notebook-cell:/c%3A/Users/user/Desktop/web%20scrabing/app.ipynb#ch0000026?line=2'>3</a>\u001b[0m \u001b[39mfor\u001b[39;00m image \u001b[39min\u001b[39;00m images:\n\u001b[0;32m      <a href='vscode-notebook-cell:/c%3A/Users/user/Desktop/web%20scrabing/app.ipynb#ch0000026?line=3'>4</a>\u001b[0m     os\u001b[39m.\u001b[39mremove(\u001b[39mrf\u001b[39m\u001b[39m'\u001b[39m\u001b[39mdata/\u001b[39m\u001b[39m{\u001b[39;00msupermarket\u001b[39m}\u001b[39;00m\u001b[39m/booklet_\u001b[39m\u001b[39m{\u001b[39;00mbooklet\u001b[39m}\u001b[39;00m\u001b[39m/\u001b[39m\u001b[39m{\u001b[39;00mimage\u001b[39m}\u001b[39;00m\u001b[39m'\u001b[39m)\n\u001b[1;32m----> <a href='vscode-notebook-cell:/c%3A/Users/user/Desktop/web%20scrabing/app.ipynb#ch0000026?line=4'>5</a>\u001b[0m     img_url\u001b[39m=\u001b[39mbookletCSV[bookletCSV[\u001b[39m\"\u001b[39;49m\u001b[39mimg_name\u001b[39;49m\u001b[39m\"\u001b[39;49m]\u001b[39m==\u001b[39;49mimage]\u001b[39m.\u001b[39;49mreset_index()[\u001b[39m\"\u001b[39;49m\u001b[39mimg_link\u001b[39;49m\u001b[39m\"\u001b[39;49m][\u001b[39m0\u001b[39;49m]\n\u001b[0;32m      <a href='vscode-notebook-cell:/c%3A/Users/user/Desktop/web%20scrabing/app.ipynb#ch0000026?line=5'>6</a>\u001b[0m     display(bookletCSV[bookletCSV[\u001b[39m\"\u001b[39m\u001b[39mimg_name\u001b[39m\u001b[39m\"\u001b[39m]\u001b[39m==\u001b[39mimage]\u001b[39m.\u001b[39mreset_index()[\u001b[39m\"\u001b[39m\u001b[39mimg_link\u001b[39m\u001b[39m\"\u001b[39m][\u001b[39m0\u001b[39m])\n\u001b[0;32m      <a href='vscode-notebook-cell:/c%3A/Users/user/Desktop/web%20scrabing/app.ipynb#ch0000026?line=6'>7</a>\u001b[0m     res \u001b[39m=\u001b[39m requests\u001b[39m.\u001b[39mget(img_url, stream\u001b[39m=\u001b[39m\u001b[39mTrue\u001b[39;00m)\n",
      "File \u001b[1;32mc:\\Users\\user\\AppData\\Local\\Programs\\Python\\Python310\\lib\\site-packages\\pandas\\core\\series.py:958\u001b[0m, in \u001b[0;36mSeries.__getitem__\u001b[1;34m(self, key)\u001b[0m\n\u001b[0;32m    955\u001b[0m     \u001b[39mreturn\u001b[39;00m \u001b[39mself\u001b[39m\u001b[39m.\u001b[39m_values[key]\n\u001b[0;32m    957\u001b[0m \u001b[39melif\u001b[39;00m key_is_scalar:\n\u001b[1;32m--> 958\u001b[0m     \u001b[39mreturn\u001b[39;00m \u001b[39mself\u001b[39;49m\u001b[39m.\u001b[39;49m_get_value(key)\n\u001b[0;32m    960\u001b[0m \u001b[39mif\u001b[39;00m is_hashable(key):\n\u001b[0;32m    961\u001b[0m     \u001b[39m# Otherwise index.get_value will raise InvalidIndexError\u001b[39;00m\n\u001b[0;32m    962\u001b[0m     \u001b[39mtry\u001b[39;00m:\n\u001b[0;32m    963\u001b[0m         \u001b[39m# For labels that don't resolve as scalars like tuples and frozensets\u001b[39;00m\n",
      "File \u001b[1;32mc:\\Users\\user\\AppData\\Local\\Programs\\Python\\Python310\\lib\\site-packages\\pandas\\core\\series.py:1069\u001b[0m, in \u001b[0;36mSeries._get_value\u001b[1;34m(self, label, takeable)\u001b[0m\n\u001b[0;32m   1066\u001b[0m     \u001b[39mreturn\u001b[39;00m \u001b[39mself\u001b[39m\u001b[39m.\u001b[39m_values[label]\n\u001b[0;32m   1068\u001b[0m \u001b[39m# Similar to Index.get_value, but we do not fall back to positional\u001b[39;00m\n\u001b[1;32m-> 1069\u001b[0m loc \u001b[39m=\u001b[39m \u001b[39mself\u001b[39;49m\u001b[39m.\u001b[39;49mindex\u001b[39m.\u001b[39;49mget_loc(label)\n\u001b[0;32m   1070\u001b[0m \u001b[39mreturn\u001b[39;00m \u001b[39mself\u001b[39m\u001b[39m.\u001b[39mindex\u001b[39m.\u001b[39m_get_values_for_loc(\u001b[39mself\u001b[39m, loc, label)\n",
      "File \u001b[1;32mc:\\Users\\user\\AppData\\Local\\Programs\\Python\\Python310\\lib\\site-packages\\pandas\\core\\indexes\\range.py:387\u001b[0m, in \u001b[0;36mRangeIndex.get_loc\u001b[1;34m(self, key, method, tolerance)\u001b[0m\n\u001b[0;32m    385\u001b[0m         \u001b[39mreturn\u001b[39;00m \u001b[39mself\u001b[39m\u001b[39m.\u001b[39m_range\u001b[39m.\u001b[39mindex(new_key)\n\u001b[0;32m    386\u001b[0m     \u001b[39mexcept\u001b[39;00m \u001b[39mValueError\u001b[39;00m \u001b[39mas\u001b[39;00m err:\n\u001b[1;32m--> 387\u001b[0m         \u001b[39mraise\u001b[39;00m \u001b[39mKeyError\u001b[39;00m(key) \u001b[39mfrom\u001b[39;00m \u001b[39merr\u001b[39;00m\n\u001b[0;32m    388\u001b[0m \u001b[39mself\u001b[39m\u001b[39m.\u001b[39m_check_indexing_error(key)\n\u001b[0;32m    389\u001b[0m \u001b[39mraise\u001b[39;00m \u001b[39mKeyError\u001b[39;00m(key)\n",
      "\u001b[1;31mKeyError\u001b[0m: 0"
     ]
    }
   ],
   "source": [
    "redownload({\"1338112502.JPEG\",\"3328346178.JPEG\",\"4675580916.JPG\",\"5484706956.JPG\",\"6294712518.JPEG\",\"7077529347.JPG\",\"9377964170.JPEG\",\"9820116987.JPG\"},\"othaim\",\"1\")"
   ]
  }
 ],
 "metadata": {
  "kernelspec": {
   "display_name": "Python 3.10.4 64-bit",
   "language": "python",
   "name": "python3"
  },
  "language_info": {
   "codemirror_mode": {
    "name": "ipython",
    "version": 3
   },
   "file_extension": ".py",
   "mimetype": "text/x-python",
   "name": "python",
   "nbconvert_exporter": "python",
   "pygments_lexer": "ipython3",
   "version": "3.10.4"
  },
  "orig_nbformat": 4,
  "vscode": {
   "interpreter": {
    "hash": "fb4569285eef3a3450cb62085a5b1e0da4bce0af555edc33dcf29baf3acc1368"
   }
  }
 },
 "nbformat": 4,
 "nbformat_minor": 2
}
